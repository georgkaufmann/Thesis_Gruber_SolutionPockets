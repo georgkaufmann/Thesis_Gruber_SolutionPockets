{
 "cells": [
  {
   "cell_type": "markdown",
   "metadata": {},
   "source": [
    "<table>\n",
    "<tr><td><img style=\"height: 150px;\" src=\"images/geo_hydro1.jpg\"></td>\n",
    "<td bgcolor=\"#FFFFFF\">\n",
    "    <p style=\"font-size: xx-large; font-weight: 900; line-height: 100%\">AG Dynamics of the Earth</p>\n",
    "    <p style=\"font-size: large; color: rgba(0,0,0,0.5);\">Juypter notebooks</p>\n",
    "    <p style=\"font-size: large; color: rgba(0,0,0,0.5);\">Georg Kaufmann</p>\n",
    "    </td>\n",
    "</tr>\n",
    "</table>"
   ]
  },
  {
   "cell_type": "markdown",
   "metadata": {},
   "source": [
    "# Chemical modelling: Introduction\n",
    "----\n",
    "*Georg Kaufmann,\n",
    "Geophysics Section,\n",
    "Institute of Geological Sciences,\n",
    "Freie Universität Berlin,\n",
    "Germany*\n",
    "\n",
    "In this notebook, we collect some **fundamental properties** and the **ideal gas law**."
   ]
  },
  {
   "cell_type": "markdown",
   "metadata": {},
   "source": [
    "----\n",
    "## SI units\n",
    "\n",
    "Since 2019, the defined constants of nature are:\n",
    "\n",
    "- **Speed of light:** $c=299792458$ m/s\n",
    "- **Ground state ${}^{123}$Cs:** $\\Delta \\nu_{Cs} = 9192631770$ 1/s\n",
    "- **Planck constant:** $h=6.62607015 \\times 10^{−34}$ Js\n",
    "- **Elementary charge:** $e=1.602176634 \\times ×10^{−19}$ C\n",
    "- **Boltzmann constant:** $k=1.380649 \\times 10^{−23}$ J/K\n",
    "- **Avogadro constant:** $N_A=6.02214076 \\times 10^{23}$ 1/mol\n",
    "- **Luminous efficacy:** $K_{Kd}=683$ lm/W"
   ]
  },
  {
   "cell_type": "markdown",
   "metadata": {},
   "source": [
    "----\n",
    "## Definitions\n",
    "\n",
    "We will start with a couple of definitions for **quantities** such as: \n",
    "\n",
    "- **Mass** $m$ [kg]<br>\n",
    "The mass of a substance can be measured with a scale, if the gravitational accelleration is known.\n",
    "\n",
    "- **Volume** $V$ [m$^3$]<br>\n",
    "The volume of substance describes the space it occupies.\n",
    "\n",
    "- **Particle number** $N$ [-]<br> \n",
    "The particle number defines the number of particles of a substance, e.g. its atoms, its molecules,\n",
    "or its minerals.\n",
    "\n",
    "- **Amount of substance** $n$ [mol]<br>\n",
    "Thr amount of substance is defined as the number of particles divided by the *Avogadro constant.\n",
    "It is often used as alternative to mass of volume, especially in case of small quantities.\n",
    "\n",
    "These four quantities are **coupled** in pairs by a set of numbers:\n",
    "\n",
    "- **Density** $\\rho$ [kg/m$^3$]\n",
    "$$\n",
    "\\rho = \\frac{m}{V}\n",
    "$$\n",
    "\n",
    "- **Molar mass** $M$ [kg/mol]\n",
    "$$\n",
    "M = \\frac{m}{n}\n",
    "$$\n",
    "\n",
    "- **Molar volume** $V_m$ [l/mol]\n",
    "$$\n",
    "V_m = \\frac{V}{m}\n",
    "$$\n",
    "\n",
    "- **Avogadro constant** $N_A$ [1/mol]\n",
    "$$\n",
    "N_A = \\frac{N}{n}\n",
    "$$\n",
    "\n",
    "<img src=\"images/basics.jpg\">\n",
    "\n",
    "While density and Avogadro constant are rather clear, molar mass and molar volume are\n",
    "a bit more difficult to grasp. \n",
    "\n",
    "We first define the atomic mass constant $m_u$ [u] as:\n",
    "- **Atomic mass constant** $m_u$ [u]<br>\n",
    "The atomic mass constant is defined as $1/12$ of the mass of the isotope $^{12}$C.\n",
    "$$\n",
    "1\\mbox{ u} = 1.66053906660 10^{-27}\\mbox{ kg}\n",
    "$$\n",
    "\n",
    "Next, we define the molar mass constant $M_u$ [kg/mol] as ratio of molar mass and relative atomic mass:\n",
    "- **Molar mass constant** $M_u$ [kg/mol]\n",
    "$$\n",
    "M_u = 0.99999999965(30) 10^{−3} \\mbox{ kg / mol}\n",
    "$$\n",
    "\n",
    "Next, the mass number $A$ [-] is defined as:\n",
    "- **Mass number** $A$<br>\n",
    "The mass number is the sum of **protons** and **neutrons** in an atom, thus an *integer* number, e.g.\n",
    "$A($^{35}$Cl)=35, and $A($^{37}$Cl)=37.\n",
    "\n",
    "Finally, the atmoc mass $m_A$ [u] is the real mass of an atom or molecule:\n",
    "- **Atomic mass** $m_A$ [u]<br>\n",
    "The atomic mass also accounts for the electrons, not only the protons and neutrons. It is\n",
    "slightly larger than the mass number, e.g.\n",
    "$m_A(^{35}$Cl)=34.969 u and $m_A(^{37}$Cl)=36.966 u.\n",
    "\n",
    "Then, molar mass $M$ is given as $M=A M_u$.\n",
    "\n",
    "### Examples\n",
    "\n",
    "- In $m=9$ g water (H$_2$O), with molar mass $M=2 \\times 1 + 16=18$ g/mol, \n",
    "the amount of substance is $n=\\frac{m}{M}=0.5$ mol.\n",
    "\n",
    "- In $V=5$ l of oxygen (O$_2$), with the volume of ideal gas under standard conditions,\n",
    "$V_r=22.4$ 1/mol, we amount of substance is $n = \\frac{V}{V_r}=0.22$ mol.\n"
   ]
  },
  {
   "cell_type": "markdown",
   "metadata": {},
   "source": [
    "----\n",
    "[next>](chem01_idealGasLaw.ipynb)"
   ]
  }
 ],
 "metadata": {
  "kernelspec": {
   "display_name": "Python 3 (ipykernel)",
   "language": "python",
   "name": "python3"
  },
  "language_info": {
   "codemirror_mode": {
    "name": "ipython",
    "version": 3
   },
   "file_extension": ".py",
   "mimetype": "text/x-python",
   "name": "python",
   "nbconvert_exporter": "python",
   "pygments_lexer": "ipython3",
   "version": "3.9.6"
  }
 },
 "nbformat": 4,
 "nbformat_minor": 1
}
