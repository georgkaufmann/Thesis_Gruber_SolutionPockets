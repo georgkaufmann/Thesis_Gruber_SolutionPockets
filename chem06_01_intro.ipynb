{
 "cells": [
  {
   "cell_type": "markdown",
   "metadata": {},
   "source": [
    "<table>\n",
    "<tr><td><img style=\"height: 150px;\" src=\"images/geo_hydro1.jpg\"></td>\n",
    "<td bgcolor=\"#FFFFFF\">\n",
    "    <p style=\"font-size: xx-large; font-weight: 900; line-height: 100%\">AG Dynamics of the Earth</p>\n",
    "    <p style=\"font-size: large; color: rgba(0,0,0,0.5);\">Juypter notebooks</p>\n",
    "    <p style=\"font-size: large; color: rgba(0,0,0,0.5);\">Georg Kaufmann</p>\n",
    "    </td>\n",
    "</tr>\n",
    "</table>"
   ]
  },
  {
   "cell_type": "markdown",
   "metadata": {},
   "source": [
    "# Chemical modelling: Calcium dissolution and precipitation\n",
    "----\n",
    "*Georg Kaufmann,\n",
    "Geophysics Section,\n",
    "Institute of Geological Sciences,\n",
    "Freie Universität Berlin,\n",
    "Germany*\n",
    "\n",
    "In this notebook, we discuss **the dissolution and precipitation of calcium from aqueous solutions**, \n",
    "with the ingredients\n",
    "- **water** H$_2$O\n",
    "- **carbon-dioxide** CO$_2$\n",
    "- **calcite** CaCO$_3$"
   ]
  },
  {
   "cell_type": "markdown",
   "metadata": {},
   "source": [
    "<img src=\"images/KARST.jpg\" style=width:40mm>\n",
    "\n",
    "The dissolution and precipitation of calcite can be summarized with the **summation equation**:\n",
    "$$\n",
    "\\fbox{$\n",
    "\\mbox{H}_2\\mbox{O} + \\mbox{CO}_2 + \\mbox{CaCO}_3\n",
    "\\leftrightarrow\n",
    "\\mbox{Ca}^{2+} + 2 \\mbox{HCO}_3^-\n",
    "$}\n",
    "$$"
   ]
  },
  {
   "cell_type": "code",
   "execution_count": null,
   "metadata": {},
   "outputs": [],
   "source": []
  },
  {
   "cell_type": "markdown",
   "metadata": {},
   "source": [
    "We will achieve the description of dissolving and precipitating calcite in two steps:\n",
    "- Solution of carbon-dioxide (CO$_2$) in water (H$_2$O).\n",
    "- Solution or precipitation of calcite (CaCO$_3$).\n",
    "\n",
    "----\n",
    "## Solution of carbon-dioxide in water\n",
    "<img src=\"images/scheme_waterco2.jpg\" style=width:80mm>\n",
    "\n",
    "$$\n",
    "\\begin{array}{rcl}\n",
    "\\mbox{H}_2\\mbox{O} &\\stackrel{K_W}{\\leftrightarrow}& \\mbox{H}^{+} + \\mbox{OH}^{-} \\\\\n",
    "\\mbox{CO}_2^{gas} &\\overset{K_H}{\\underset{}{\\leftrightarrow}}& \\mbox{CO}_2^{} \\\\\n",
    "\\mbox{CO}_2 + \\mbox{H}_2\\mbox{O} &\\overset{K_1}{\\underset{}{\\leftrightarrow}}& \\mbox{H}^+ + \\mbox{HCO}_3^-\\\\\n",
    "\\mbox{CO}_2 + \\mbox{OH}^- &\\overset{K_x}{\\underset{}{\\leftrightarrow}}& \\mbox{HCO}_3^- \\\\\n",
    "\\mbox{HCO}_3^- &\\overset{K_2}{\\underset{}{\\leftrightarrow}}& \\mbox{H}^+ + \\mbox{CO}_3^{2-}\\\\\n",
    "\\end{array}\n",
    "$$\n",
    "\n",
    "----\n",
    "## Solution or precipitation of calcite\n",
    "<table><tr>\n",
    "<td><img src=\"images/chemical_reactions_open.jpg\" style=width:80mm></td>\n",
    "<td><img src=\"images/chemical_reactions_closed.jpg\" style=width:80mm></td>\n",
    "</tr></table>\n",
    "\n",
    "$$\n",
    "\\begin{array}{rcl}\n",
    "  {\\rm CaCO}_3 + {\\rm H}^+             \n",
    "  & \\overset{\\kappa_1}{\\underset{\\kappa'_4}{\\leftrightarrow}} & {\\rm Ca}^{2+} + {\\rm HCO}_3^- \\\\\n",
    "  {\\rm CaCO}_3 + {\\rm H}_2{\\rm CO}_3^0 \n",
    "  & \\overset{\\kappa_2}{\\underset{\\kappa''_4}{\\leftrightarrow}} & {\\rm Ca}^{2+} + 2{\\rm HCO}_3^- \\\\\n",
    "  {\\rm CaCO}_3 + {\\rm H}_2{\\rm O}      \n",
    "  & \\overset{\\kappa_3}{\\underset{\\kappa'''_4}{\\leftrightarrow}} & {\\rm Ca}^{2+} + {\\rm CO}_3^{2-} \n",
    "\\end{array}\n",
    "$$"
   ]
  },
  {
   "cell_type": "markdown",
   "metadata": {},
   "source": [
    "----\n",
    "## Literature\n",
    "\n",
    "- W. Dreybrodt, 1988: **Processes in Karst Systems: Physics, Chemistry, and Geology**<br>\n",
    "[Springer Series in Physical Environment](https://doi.org/10.1007/978-3-642-83352-6), 288pp.\n",
    "- G. Kaufmann, 2004: **Structure and evolution of karst aquifers: An integrative numerical modelling approach**<br>\n",
    "[Habil. Thesis, Georg August Universität Göttingen](), 226pp."
   ]
  },
  {
   "cell_type": "markdown",
   "metadata": {},
   "source": [
    "----\n",
    "In the next notebooks, we will model the CO$_2$-part of the carbon degradation process ...\n",
    "\n",
    "[next>](chem05_CO2_HenriConstant.ipynb)"
   ]
  }
 ],
 "metadata": {
  "kernelspec": {
   "display_name": "Python 3 (ipykernel)",
   "language": "python",
   "name": "python3"
  },
  "language_info": {
   "codemirror_mode": {
    "name": "ipython",
    "version": 3
   },
   "file_extension": ".py",
   "mimetype": "text/x-python",
   "name": "python",
   "nbconvert_exporter": "python",
   "pygments_lexer": "ipython3",
   "version": "3.9.6"
  }
 },
 "nbformat": 4,
 "nbformat_minor": 1
}
