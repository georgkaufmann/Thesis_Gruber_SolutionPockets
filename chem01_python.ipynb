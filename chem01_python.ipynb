{
 "cells": [
  {
   "cell_type": "markdown",
   "metadata": {},
   "source": [
    "<table>\n",
    "<tr><td><img style=\"height: 150px;\" src=\"images/geo_hydro1.jpg\"></td>\n",
    "<td bgcolor=\"#FFFFFF\">\n",
    "    <p style=\"font-size: xx-large; font-weight: 900; line-height: 100%\">AG Dynamics of the Earth</p>\n",
    "    <p style=\"font-size: large; color: rgba(0,0,0,0.5);\">Jupyter notebooks</p>\n",
    "    <p style=\"font-size: large; color: rgba(0,0,0,0.5);\">Georg Kaufmann</p>\n",
    "    </td>\n",
    "</tr>\n",
    "</table>"
   ]
  },
  {
   "cell_type": "markdown",
   "metadata": {},
   "source": [
    "# Chemical modelling: `python`  introduction\n",
    "----\n",
    "*Georg Kaufmann,\n",
    "Geophysics Section,\n",
    "Institute of Geological Sciences,\n",
    "Freie Universität Berlin,\n",
    "Germany*"
   ]
  },
  {
   "cell_type": "markdown",
   "metadata": {},
   "source": [
    "In this notebook, we want to illustrate some of the concepts of this lecture with a hands-on approach,\n",
    "based on the **python** interpreter as programming language. We recall some very simple\n",
    "basics...\n",
    "\n",
    "## Defining variables\n",
    "\n",
    "We first define a few **scalar** variables ($i$, $a$, $name$), and a list ($liste$),\n",
    "then we plot and check them."
   ]
  },
  {
   "cell_type": "code",
   "execution_count": 1,
   "metadata": {},
   "outputs": [
    {
     "name": "stdout",
     "output_type": "stream",
     "text": [
      "1 1.0 text [-1, 0, 1]\n",
      "<class 'int'> <class 'float'> <class 'str'> <class 'list'>\n"
     ]
    }
   ],
   "source": [
    "# defining scalar variables\n",
    "i = 1\n",
    "a = 1.\n",
    "name = 'text'\n",
    "liste = [-1,0,1]\n",
    "print (i,a,name,liste)\n",
    "print (type(i),type(a),type(name),type(liste))"
   ]
  },
  {
   "cell_type": "markdown",
   "metadata": {},
   "source": [
    "We now define **vector** variables to calculate a function.\n",
    "Here, we want to use the `numpy` library, that is why we first import that library\n",
    "and assign it a short-hand notation *np*.\n",
    "\n",
    "From the *numpy* library, we use the function `linspace`, with the preceeding *np.* \n",
    "defining that this function is in the `numpy` library."
   ]
  },
  {
   "cell_type": "code",
   "execution_count": 2,
   "metadata": {},
   "outputs": [
    {
     "name": "stdout",
     "output_type": "stream",
     "text": [
      "x:  [-1.  -0.8 -0.6 -0.4 -0.2  0.   0.2  0.4  0.6  0.8  1. ]\n",
      "11\n",
      "y:  [-2.  -1.6 -1.2 -0.8 -0.4  0.   0.4  0.8  1.2  1.6  2. ]\n"
     ]
    }
   ],
   "source": [
    "# load the numpy library, assign a short-hand notation\n",
    "import numpy as np\n",
    "# define a vector of $x$ variables, called array in numpy\n",
    "x = np.linspace(-1.,1.,11)\n",
    "print ('x: ',x)\n",
    "print(len(x))\n",
    "# define a vector of $y$ variables (the \"function\").\n",
    "# Note that by simply assigning y=x y becomes an array\n",
    "y = 2*x\n",
    "print ('y: ',y)"
   ]
  },
  {
   "cell_type": "markdown",
   "metadata": {},
   "source": [
    "## Plotting the variables\n",
    "\n",
    "We first call a non-python command (starting with %) to allow matplotlib to plot the figures \n",
    "within this workbook.\n",
    "\n",
    "We then load the `matplotlib` library, assigning a short-hand notation*plt*.\n",
    "\n",
    "Finally we call the `plot` module within the *matplotlib* package (using *plt.*), and\n",
    "hand over the arrays $x$ and $y$."
   ]
  },
  {
   "cell_type": "code",
   "execution_count": 3,
   "metadata": {},
   "outputs": [
    {
     "data": {
      "text/plain": [
       "[<matplotlib.lines.Line2D at 0x1123eafd0>]"
      ]
     },
     "execution_count": 3,
     "metadata": {},
     "output_type": "execute_result"
    },
    {
     "data": {
      "image/png": "[encoded data removed]",
      "text/plain": [
       "<Figure size 432x288 with 1 Axes>"
      ]
     },
     "metadata": {
      "needs_background": "light"
     },
     "output_type": "display_data"
    }
   ],
   "source": [
    "# load matplotlib library\n",
    "import matplotlib.pyplot as plt\n",
    "\n",
    "# plot function\n",
    "plt.plot(x,y,linewidth=5,linestyle='--',color='red')"
   ]
  },
  {
   "cell_type": "markdown",
   "metadata": {},
   "source": [
    "## Define a quadratic function\n",
    "\n",
    "Now we define a quadratic function $y=x^2$ with the `def` keyword. Note that everything\n",
    "after this definition is **indented**, a very important concept in python!\n",
    "\n",
    "As argument, we hand over the variable $x$ (note that in our case this is an array!).\n",
    "Then the function value $y$ is calculated, and the function value is returned to the main\n",
    "program.\n",
    "\n",
    "In the second cell, we first calculate an array of $x$ values, using the `linspace` function \n",
    "from the `numpy` package. We hand over a min and max value for the array, $x \\in [-1,1]$, and\n",
    "the nuber of points to calculate (11).\n",
    "\n",
    "Then we now call the `function` by assining it to the variable $y$, which\n",
    "will be an array, because on input we handed down an array $x$. Test with the `print` command!\n",
    "\n",
    "We then plot the function."
   ]
  },
  {
   "cell_type": "code",
   "execution_count": 4,
   "metadata": {},
   "outputs": [],
   "source": [
    "def function(x):\n",
    "    y = x**2\n",
    "    return y"
   ]
  },
  {
   "cell_type": "code",
   "execution_count": 6,
   "metadata": {},
   "outputs": [
    {
     "data": {
      "text/plain": [
       "[<matplotlib.lines.Line2D at 0x112a2cee0>]"
      ]
     },
     "execution_count": 6,
     "metadata": {},
     "output_type": "execute_result"
    },
    {
     "data": {
      "image/png": "[encoded data removed]",
      "text/plain": [
       "<Figure size 432x288 with 1 Axes>"
      ]
     },
     "metadata": {
      "needs_background": "light"
     },
     "output_type": "display_data"
    }
   ],
   "source": [
    "x = np.linspace(-1.,1.,21)\n",
    "y = function(x)\n",
    "plt.plot(x,y)"
   ]
  },
  {
   "cell_type": "markdown",
   "metadata": {},
   "source": [
    "## Extend to polynomials and add coefficients\n",
    "\n",
    "In this step we make the the function more general by extending it to a polynomial of the form\n",
    "$$\n",
    "y= a x^2 + bx +c\n",
    "$$\n",
    "Thus besides the array $x$ we need the coefficients $a$, $b$, and $c$ to be handed down.\n",
    "Note that we assign values for this three coefficient, which will be the **default** values.\n",
    "This means, when we call the function without handing one of this coefficients down explicitely,\n",
    "the default value is used."
   ]
  },
  {
   "cell_type": "code",
   "execution_count": 7,
   "metadata": {},
   "outputs": [],
   "source": [
    "def function(x,a=1.,b=0.,c=0.):\n",
    "    y = a*x**2 + b*x + c\n",
    "    return y"
   ]
  },
  {
   "cell_type": "code",
   "execution_count": 8,
   "metadata": {},
   "outputs": [
    {
     "data": {
      "text/plain": [
       "[<matplotlib.lines.Line2D at 0x112aff520>]"
      ]
     },
     "execution_count": 8,
     "metadata": {},
     "output_type": "execute_result"
    },
    {
     "data": {
      "image/png": "[encoded data removed]",
      "text/plain": [
       "<Figure size 432x288 with 1 Axes>"
      ]
     },
     "metadata": {
      "needs_background": "light"
     },
     "output_type": "display_data"
    }
   ],
   "source": [
    "x = np.linspace(-1.,1.,21)\n",
    "y = function(x,b=0.5,c=-1.)\n",
    "plt.plot(x,y)"
   ]
  },
  {
   "cell_type": "markdown",
   "metadata": {},
   "source": [
    "## Exercises\n",
    "\n",
    "1. Play with the scripts, change the data range or number of sampling points in *linspace*,\n",
    "change the defined *function*, andd another function, plt two functions.\n",
    "\n",
    "2. Search for additional commands to make the plot nicer. \n",
    "Tip: Search for *title*, *xlim*, *ylim*, *xlabel*, *xlabel*, and the use of the keywords\n",
    "*linewidth*, *color*, *marker* in the plot command."
   ]
  },
  {
   "cell_type": "markdown",
   "metadata": {},
   "source": [
    "From here on, you can start searching the net for the numerous often helpful online tutorials on **python**.\n",
    "\n",
    "----\n",
    "[next>](chem01_intro.ipynb)"
   ]
  }
 ],
 "metadata": {
  "kernelspec": {
   "display_name": "Python 3 (ipykernel)",
   "language": "python",
   "name": "python3"
  },
  "language_info": {
   "codemirror_mode": {
    "name": "ipython",
    "version": 3
   },
   "file_extension": ".py",
   "mimetype": "text/x-python",
   "name": "python",
   "nbconvert_exporter": "python",
   "pygments_lexer": "ipython3",
   "version": "3.9.6"
  }
 },
 "nbformat": 4,
 "nbformat_minor": 1
}
