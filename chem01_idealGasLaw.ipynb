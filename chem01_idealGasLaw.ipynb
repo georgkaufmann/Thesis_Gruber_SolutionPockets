{
 "cells": [
  {
   "cell_type": "markdown",
   "metadata": {},
   "source": [
    "<table>\n",
    "<tr><td><img style=\"height: 150px;\" src=\"images/geo_hydro1.jpg\"></td>\n",
    "<td bgcolor=\"#FFFFFF\">\n",
    "    <p style=\"font-size: xx-large; font-weight: 900; line-height: 100%\">AG Dynamics of the Earth</p>\n",
    "    <p style=\"font-size: large; color: rgba(0,0,0,0.5);\">Juypter notebooks</p>\n",
    "    <p style=\"font-size: large; color: rgba(0,0,0,0.5);\">Georg Kaufmann</p>\n",
    "    </td>\n",
    "</tr>\n",
    "</table>"
   ]
  },
  {
   "cell_type": "markdown",
   "metadata": {},
   "source": [
    "# Chemical modelling: Ideal gas law\n",
    "----\n",
    "*Georg Kaufmann,\n",
    "Geophysics Section,\n",
    "Institute of Geological Sciences,\n",
    "Freie Universität Berlin,\n",
    "Germany*\n",
    "\n",
    "In this notebook, we define and use the **ideal gas law**."
   ]
  },
  {
   "cell_type": "markdown",
   "metadata": {},
   "source": [
    "----\n",
    "## Ideal gas law\n",
    "\n",
    "As an equation of state, the **ideal gas law** is defined as:\n",
    "$$\n",
    "p V = n R T\n",
    "$$\n",
    "with the variables:\n",
    "- $p$ [Pa] pressure\n",
    "- $V$ [m$^3$] volume\n",
    "- $n$ [mol] amount of substance\n",
    "- $T$ [K] temperature\n",
    "\n",
    "The **gas constant** is given as:\n",
    "$$\n",
    "R=8.314.. \\frac{\\mbox{Pa m$^3$}}{\\mbox{mol K}}\n",
    "$$\n",
    "\n",
    "Note that **pressure** is defined in the SI unit *Pa*. However, in aquatic chemistry, often the\n",
    "unit *atm* is used. Relations are:\n",
    "$$\n",
    "\\begin{array}{rcl}\n",
    "1 \\mbox{ atm} &=& 101325 \\mbox{ Pa} \\\\\n",
    "1 \\mbox{ bar} &=& 100000 \\mbox{ Pa} \\\\\n",
    "\\end{array}\n",
    "$$\n",
    "\n",
    "From the ideal gas law, we can derive the definition of **partial pressure**. When we keep \n",
    "temperature $T$ and volume $V$ constant, (partial) pressure $p$ is related to amount of substance $n$.\n",
    "This means, pressure depends on particle number:\n",
    "- For a **one-component** gas: The number of particles $N$ defines the total pressure, $p_T=p$.\n",
    "- For a **multi-component** gas: The number of particles of one component $N_i$ defines the \n",
    "partial pressure, $p_i$ of that component. All partial pessure sum then up to total pressure:\n",
    "$p_T = \\sum p_i$.\n",
    "\n",
    "\n",
    "We can use the ideal gas law to relate **concentration** of a substance to **partial pressure**,\n",
    "as concentration [$X_i$] [mol/m$^3$] of a substance $X_i$ is defined as:\n",
    "$$\n",
    "[X] = \\frac{n}{V} \n",
    "$$\n",
    "Using this definition is the ideal gas law, we obtain:\n",
    "$$\n",
    "p_i = [X_i] R T\n",
    "$$\n",
    "\n"
   ]
  },
  {
   "cell_type": "markdown",
   "metadata": {},
   "source": [
    "----\n",
    "## Mole fraction\n",
    "\n",
    "Finally, we define the **mole fraction** $n_f$ [-] as ratio of amount of substance of\n",
    "a specific substance $n_i$ to the total amount of substance $n_T$:\n",
    "$$\n",
    "n_f = \\frac{n_i}{n_T} = \\frac{p_i}{p_T}\n",
    "$$\n",
    "The latter ratio comes from applying the ideal gas law.\n",
    "\n",
    "The mole fraction is useful to relate the different notations for gases, e.g. the CO$_2$ concentration\n",
    "in the atmosphere, nowadays around **420 ppm**. This value is given as mole fraction:\n",
    "- 400 parts of CO$_2$ are contained 1,000,000 parts of air.\n",
    "- Because we know, the the **total air pressure at sea level** is around 1 atm, the **partial pressure** of CO$_2$ is then:\n",
    "$$\n",
    "\\mbox{pCO}_2 \\simeq 0.0004 \\mbox{ atm}\n",
    "$$\n",
    "\n",
    "Final exercise: 420 ppm of CO$_2$, for a temperature of 20$^\\circ$C, corresponds to a concentration\n",
    "$$\n",
    "[\\mbox{CO}_2] = \\frac{p}{RT} \\sim 1.7 \\times 10^{-5} \\mbox{ mol/l}\n",
    "$$\n",
    "\n",
    "($420 / 1000000 * 101325 / 8.314 / (273+20) * 1e-3$) "
   ]
  },
  {
   "cell_type": "code",
   "execution_count": 2,
   "metadata": {},
   "outputs": [
    {
     "name": "stdout",
     "output_type": "stream",
     "text": [
      "CO2 mole fraction:  420  ppm\n",
      "CO2 concentration:  1.746981324317468e-05  mol/l\n"
     ]
    }
   ],
   "source": [
    "CO2ppm = 420   # ppm\n",
    "TC     = 20    # C\n",
    "R      = 8.314 # Pa m3 / mol / K\n",
    "CO2conc = CO2ppm / 1000000 * 101325 / R / (273+TC) * 1e-3\n",
    "print('CO2 mole fraction: ',CO2ppm,' ppm')\n",
    "print('CO2 concentration: ',CO2conc,' mol/l')"
   ]
  },
  {
   "cell_type": "markdown",
   "metadata": {},
   "source": [
    "----"
   ]
  }
 ],
 "metadata": {
  "kernelspec": {
   "display_name": "Python 3 (ipykernel)",
   "language": "python",
   "name": "python3"
  },
  "language_info": {
   "codemirror_mode": {
    "name": "ipython",
    "version": 3
   },
   "file_extension": ".py",
   "mimetype": "text/x-python",
   "name": "python",
   "nbconvert_exporter": "python",
   "pygments_lexer": "ipython3",
   "version": "3.9.6"
  }
 },
 "nbformat": 4,
 "nbformat_minor": 1
}
