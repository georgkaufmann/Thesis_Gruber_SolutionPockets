{
 "cells": [
  {
   "cell_type": "markdown",
   "metadata": {},
   "source": [
    "<table>\n",
    "<tr><td><img style=\"height: 150px;\" src=\"images/geo_hydro1.jpg\"></td>\n",
    "<td bgcolor=\"#FFFFFF\">\n",
    "    <p style=\"font-size: xx-large; font-weight: 900; line-height: 100%\">AG Dynamics of the Earth</p>\n",
    "    <p style=\"font-size: large; color: rgba(0,0,0,0.5);\">Juypter notebooks</p>\n",
    "    <p style=\"font-size: large; color: rgba(0,0,0,0.5);\">Georg Kaufmann</p>\n",
    "    </td>\n",
    "</tr>\n",
    "</table>"
   ]
  },
  {
   "cell_type": "markdown",
   "metadata": {},
   "source": [
    "# Chemical modelling\n",
    "----\n",
    "*Georg Kaufmann,\n",
    "Geophysics Section,\n",
    "Institute of Geological Sciences,\n",
    "Freie Universität Berlin,\n",
    "Germany*\n",
    "\n",
    "**jupyter notebooks** on **chemical modelling**.\n",
    "\n",
    "1. **Introduction**\n",
    "    - [python](chem01_python.ipynb)\n",
    "    - [Introduction](chem01_intro.ipynb)\n",
    "    - [Ideal gas law](chem01_idealGasLaw.ipynb)\n",
    "    \n",
    "2. **Chemistry:**\n",
    "    - [Concentration and activity](chem02_activities.ipynb)\n",
    "    - [Reactions](chem02_reactions.ipynb)\n",
    "    \n",
    "3. **Continuity equations**\n",
    "    - Diffusion, advection, reaction, decay\n",
    "    - Logistic growth\n",
    "    - Gray-Scott model\n",
    "    - Mixing and reaction of two chemicals (3 reactants)\n",
    " \n",
    "4. **Example: Decay series**\n",
    "    - Single decay\n",
    "    - Two-fold decay\n",
    "    - Decay series\n",
    "    - Cosmogenic nuclides\n",
    "    \n",
    "5. **Example: CO$_2$ disequibibrium**\n",
    "    - Carbon degradation\n",
    "    - CO$_2$-exchange between water and air\n",
    "    - Microbial activity\n",
    "    - Fitting of data\n",
    "    \n",
    "6. **Example: Calcium dissolution**\n",
    "    - [Introduction](chem06_01_intro.ipynb)\n",
    "    - Dissociation of water\n",
    "    - Carbon dioxide in air and water\n",
    "    - Dissolution of carbon dioxide\n",
    "    - Bjerrum plot\n",
    "    - [Calcium concentration](chem06_06_calciumequilibrium.ipynb)\n",
    "    - [Flux rates](chem06_07_fluxrates.ipynb)\n",
    "    \n",
    "7. **Example: Single fracture evolution**\n",
    "\n",
    "8. **Example: Stalagmite growth**"
   ]
  },
  {
   "cell_type": "markdown",
   "metadata": {},
   "source": [
    "----"
   ]
  }
 ],
 "metadata": {
  "kernelspec": {
   "display_name": "Python 3 (ipykernel)",
   "language": "python",
   "name": "python3"
  },
  "language_info": {
   "codemirror_mode": {
    "name": "ipython",
    "version": 3
   },
   "file_extension": ".py",
   "mimetype": "text/x-python",
   "name": "python",
   "nbconvert_exporter": "python",
   "pygments_lexer": "ipython3",
   "version": "3.9.6"
  }
 },
 "nbformat": 4,
 "nbformat_minor": 1
}
