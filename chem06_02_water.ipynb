{
 "cells": [
  {
   "cell_type": "markdown",
   "metadata": {},
   "source": [
    "<table>\n",
    "<tr><td><img style=\"height: 150px;\" src=\"images/geo_hydro1.jpg\"></td>\n",
    "<td bgcolor=\"#FFFFFF\">\n",
    "    <p style=\"font-size: xx-large; font-weight: 900; line-height: 100%\">AG Dynamics of the Earth</p>\n",
    "    <p style=\"font-size: large; color: rgba(0,0,0,0.5);\">Juypter notebooks</p>\n",
    "    <p style=\"font-size: large; color: rgba(0,0,0,0.5);\">Georg Kaufmann</p>\n",
    "    </td>\n",
    "</tr>\n",
    "</table>"
   ]
  },
  {
   "cell_type": "markdown",
   "metadata": {},
   "source": [
    "# Chemical modelling: Dissociation of water\n",
    "----\n",
    "*Georg Kaufmann,\n",
    "Geophysics Section,\n",
    "Institute of Geological Sciences,\n",
    "Freie Universität Berlin,\n",
    "Germany*\n",
    "\n",
    "In this notebook, we discuss the **dissociation of water**."
   ]
  },
  {
   "cell_type": "code",
   "execution_count": 1,
   "metadata": {},
   "outputs": [],
   "source": [
    "import numpy as np\n",
    "import matplotlib.pyplot as plt\n",
    "import scipy.integrate\n",
    "import geodyn_div;geodyn_div.change_fonts()"
   ]
  },
  {
   "cell_type": "code",
   "execution_count": 2,
   "metadata": {},
   "outputs": [],
   "source": [
    "R        = 8.314   # Gas constant, Pa m3 / K / mol\n",
    "atm2Pa   = 101325. # 1 atm = 101325 Pa\n",
    "liter2m3 = 1.e-3   # 1 l   = 1000 cm3 = 10^-3 m3 \n",
    "year2sec = 365*24*60*60\n",
    "day2sec  = 24*60*60\n",
    "min2sec  = 60\n",
    "tiny     = 1e-20"
   ]
  },
  {
   "cell_type": "markdown",
   "metadata": {},
   "source": [
    "## Dissociation of water\n",
    "<img src=\"images/scheme_purewater.jpg\" style=\"height:50mm\">\n",
    "          \n",
    "The dissociation of water can be described by the following reaction:\n",
    "$$\n",
    "\\mbox{H}_2\\mbox{O} \\overset{k_d}{\\underset{k_a}{\\leftrightarrow}} \\mbox{H}^{+} + \\mbox{OH}^{-}\n",
    "$$\n",
    "Here, $k_d$ and $k_a$ are the **forward** and **backward** rate constants. Today, this should be reformulated to\n",
    "$\n",
    "2\\mbox{H}_2\\mbox{O} \\overset{k_d}{\\underset{k_a}{\\leftrightarrow}} \\mbox{H}_3\\mbox{O}^{+} + \\mbox{OH}^{-}$ ...\n",
    "\n",
    "### Forward and backward rate constants $k_d$ and $k_a$\n",
    "For the forward reaction rate, we find\n",
    "$$\n",
    "-\\frac{d(\\mbox{H}_2\\mbox{O})}{dt} = k_d (\\mbox{H}_2\\mbox{O})\n",
    "$$\n",
    "Note that quantities in curly brackets are activities!\n",
    "\n",
    "This reaction is a reaction of 1th order, but often the activity of water, ($H_2O$), is set to one,\n",
    "and then the reaction rate reduces to 0th order, and the unit of $k_d$ is: [mol/l/s].\n",
    "\n",
    "The backward reaction rate is\n",
    "$$\n",
    "-\\frac{d(\\mbox{H}^{+})}{dt} = -\\frac{d(\\mbox{OH}^{-})}{dt} = k_a (\\mbox{H}^{+})(\\mbox{OH}^{-})\n",
    "$$\n",
    "This is a reaction of 2nd order, thus the unit of $k_a$ is [l/mol/s].\n",
    "\n",
    "### Equilibrium constant $K_W$ \n",
    "Because the forward and backward reactions occur at almost the same speed, the dissociation \n",
    "of water is in **equilibrium**, and we can summarize the forward and backward rate constants \n",
    "to an **equilibrium constant**:\n",
    "$$\n",
    "K_W = \\frac{k_d}{k_a}\n",
    "$$\n",
    "and the reaction in equilibrium can be written as:\n",
    "$$\n",
    "\\mbox{H}_2\\mbox{O} \\stackrel{K_W}{\\leftrightarrow} \\mbox{H}^{+} + \\mbox{OH}^{-}\n",
    "$$\n",
    "\n",
    "- A fitted curve for $K_W$ can be found in **Millero et al. (1979). Geochim. Cosmochim. Acta, 43, 1651-1661**."
   ]
  },
  {
   "cell_type": "code",
   "execution_count": 3,
   "metadata": {},
   "outputs": [
    {
     "data": {
      "image/png": "[encoded data removed]",
      "text/plain": [
       "<Figure size 576x432 with 1 Axes>"
      ]
     },
     "metadata": {
      "needs_background": "light"
     },
     "output_type": "display_data"
    }
   ],
   "source": [
    "def KW(TC):\n",
    "    \"\"\"\n",
    "    -----------------------------------------------------------------------\n",
    "    KW - equilibrium constant dissociation of water\n",
    "    KW: H2O <-> H+ + OH- \n",
    "    from:\n",
    "    Millero, Geochemica et Cosmochemica Acta 43:1651-1661, 1979\n",
    "    refit data of Harned and Owen, The Physical Chemistry of\n",
    "    Electrolyte Solutions, 1958\n",
    "    this is on the SWS pH scale in (mol/kg-SW)^2\n",
    "    input: \n",
    "    TC [C]:         temperature\n",
    "    output:\n",
    "    KW [mol^2/l^2]: H2O <-> H+ + OH- \n",
    "    -----------------------------------------------------------------------\n",
    "    \"\"\"\n",
    "    TK = 273.16 + TC\n",
    "    KW = 148.9802 - 13847.26/TK - 23.6521*np.log(TK)\n",
    "    KW = np.exp(KW)\n",
    "    return KW\n",
    "\n",
    "TC = np.linspace(0,200,101)\n",
    "\n",
    "plt.figure(figsize=(8,6))\n",
    "plt.xlabel('T [$^{\\circ}$C]')\n",
    "plt.ylabel('K$_W$ [mol$^2$/l$^2$]')\n",
    "plt.semilogy(TC,KW(TC),linewidth=3,color='red',label='K$_w$')\n",
    "plt.legend()\n",
    "plt.savefig('figures/CHEM_KW.png')"
   ]
  },
  {
   "cell_type": "markdown",
   "metadata": {},
   "source": [
    "Get rate constants $k_d$ and $k_a$ from equilibrium constant $K_w$:\n",
    "- A value for $k_a$ is quoted in **Stillinger (1978). Theoretical chemistry, Academic Press**, who quotes **Eigen &De Maeyer, L. (1958). Proc. R. Soc. (London) Ser. A 247, 505-533**.<br>\n",
    "$$k_a(25^{\\circ}C) = (1.4 \\pm 0.2) \\times 10^{11} \\mbox{ l/mol/s}$$\n",
    "- $k_d$ can then be calculated, $k_d=k_a K_W$."
   ]
  },
  {
   "cell_type": "code",
   "execution_count": 4,
   "metadata": {},
   "outputs": [
    {
     "name": "stdout",
     "output_type": "stream",
     "text": [
      "25.0 1.0131768731658128e-14 0.001418447622432138 140000000000.0\n"
     ]
    }
   ],
   "source": [
    "TC = 25.\n",
    "ka = 1.4e11 # l/mol/s\n",
    "kd = ka*KW(TC)\n",
    "print(TC,KW(TC),kd,ka)"
   ]
  },
  {
   "cell_type": "markdown",
   "metadata": {},
   "source": [
    "## From chemical reaction to differential equation\n",
    "Both the activities of hydrogen H$^+$ and hydroxyl OH$^-$ change\n",
    "through dissociation (forward reactions, increase), and\n",
    "association (backward reaction, decrease):\n",
    "$$\n",
    "\\begin{array}{rcl}\n",
    "\\frac{d(\\mbox{H}^{+})}{dt} &=& k_d (\\mbox{H}_2\\mbox{O}) - k_a (\\mbox{H}^+) (\\mbox{OH}^-) \\\\\n",
    "\\frac{d(\\mbox{OH}^{-})}{dt} &=& k_d (\\mbox{H}_2\\mbox{O}) - k_a (\\mbox{H}^+) (\\mbox{OH}^-) \\\\\n",
    "\\end{array}\n",
    "$$\n",
    "\n",
    "This coupled set of ordinary differential equations is now\n",
    "solved with the `odeint` package from `scipy`. Steps:\n",
    "- Define right-hand side as function `rhs`\n",
    "- Set initial conditions\n",
    "- Solve system"
   ]
  },
  {
   "cell_type": "code",
   "execution_count": 5,
   "metadata": {},
   "outputs": [],
   "source": [
    "def rhs(y,t,kd,ka):\n",
    "    \"\"\"\n",
    "    right-hand side of system of diff. equations\n",
    "    input: old values y^(i-1)\n",
    "    y[0] - H+\n",
    "    y[1] - OH-\n",
    "    output: right-hand sides\n",
    "    dydt[0] - dH+/dt\n",
    "    dydt[1] - dCOH-/dt\n",
    "    \"\"\"\n",
    "    dHp  = kd*1 - ka*y[0]*y[1]\n",
    "    dOHm = kd*1 - ka*y[0]*y[1]\n",
    "    dydt = [dHp,dOHm]\n",
    "    return dydt"
   ]
  },
  {
   "cell_type": "code",
   "execution_count": 6,
   "metadata": {},
   "outputs": [
    {
     "name": "stdout",
     "output_type": "stream",
     "text": [
      "[0.0, 0.0]\n"
     ]
    }
   ],
   "source": [
    "t = np.linspace(0,0.0005,50000)\n",
    "Hp0  = 0.\n",
    "OHm0 = 0.\n",
    "y0   = [Hp0,OHm0]\n",
    "print(y0)\n",
    "sol = scipy.integrate.odeint(rhs, y0, t, args=(kd,ka))"
   ]
  },
  {
   "cell_type": "code",
   "execution_count": 7,
   "metadata": {},
   "outputs": [
    {
     "name": "stdout",
     "output_type": "stream",
     "text": [
      "[[0.00000000e+00 0.00000000e+00]\n",
      " [1.41847597e-11 1.41847597e-11]\n",
      " [2.83695189e-11 2.83695189e-11]\n",
      " ...\n",
      " [1.00758261e-07 1.00758261e-07]\n",
      " [1.00758262e-07 1.00758262e-07]\n",
      " [1.00758263e-07 1.00758263e-07]]\n"
     ]
    }
   ],
   "source": [
    "print(sol)"
   ]
  },
  {
   "cell_type": "code",
   "execution_count": 8,
   "metadata": {},
   "outputs": [
    {
     "data": {
      "text/plain": [
       "<matplotlib.legend.Legend at 0x142789e80>"
      ]
     },
     "execution_count": 8,
     "metadata": {},
     "output_type": "execute_result"
    },
    {
     "data": {
      "image/png": "[encoded data removed]",
      "text/plain": [
       "<Figure size 720x432 with 1 Axes>"
      ]
     },
     "metadata": {
      "needs_background": "light"
     },
     "output_type": "display_data"
    }
   ],
   "source": [
    "plt.figure(figsize=(10,6))\n",
    "plt.xlabel('Time [s]')\n",
    "plt.ylabel('(X$_i$) [mol/l]')\n",
    "plt.semilogy(t,sol[:,0]+tiny,linewidth=6,color='red',label='H$^+$')\n",
    "plt.semilogy(t,sol[:,1]+tiny,linewidth=2,color='blue',label='OH$^-$')\n",
    "plt.grid()\n",
    "plt.legend()"
   ]
  },
  {
   "cell_type": "code",
   "execution_count": 9,
   "metadata": {},
   "outputs": [
    {
     "data": {
      "text/plain": [
       "<matplotlib.legend.Legend at 0x142761c40>"
      ]
     },
     "execution_count": 9,
     "metadata": {},
     "output_type": "execute_result"
    },
    {
     "data": {
      "image/png": "[encoded data removed]",
      "text/plain": [
       "<Figure size 720x432 with 1 Axes>"
      ]
     },
     "metadata": {
      "needs_background": "light"
     },
     "output_type": "display_data"
    }
   ],
   "source": [
    "plt.figure(figsize=(10,6))\n",
    "plt.xlabel('Time [s]')\n",
    "plt.ylabel('(X$_i$) [mol/l]')\n",
    "plt.loglog(t,sol[:,0]+tiny,linewidth=6,color='red',label='H$^+$')\n",
    "plt.loglog(t,sol[:,1]+tiny,linewidth=2,color='blue',label='OH$^-$')\n",
    "plt.grid()\n",
    "plt.legend()"
   ]
  },
  {
   "cell_type": "markdown",
   "metadata": {},
   "source": [
    "----\n",
    "## pH\n",
    "The pH value is defined as:\n",
    "$$\n",
    "\\mbox{pH} = - \\log(\\mbox{H}^+)\n",
    "$$"
   ]
  },
  {
   "cell_type": "code",
   "execution_count": 10,
   "metadata": {},
   "outputs": [
    {
     "data": {
      "text/plain": [
       "<matplotlib.legend.Legend at 0x142210bb0>"
      ]
     },
     "execution_count": 10,
     "metadata": {},
     "output_type": "execute_result"
    },
    {
     "data": {
      "image/png": "[encoded data removed]",
      "text/plain": [
       "<Figure size 720x432 with 1 Axes>"
      ]
     },
     "metadata": {
      "needs_background": "light"
     },
     "output_type": "display_data"
    }
   ],
   "source": [
    "plt.figure(figsize=(10,6))\n",
    "plt.xlabel('Time [s]')\n",
    "plt.ylabel('pH')\n",
    "plt.yticks([7,14])\n",
    "plt.plot(t,-np.log10(sol[:,0]+tiny),linewidth=3,color=(0,0.6,0.8),label='pH')\n",
    "plt.grid()\n",
    "plt.legend()"
   ]
  },
  {
   "cell_type": "code",
   "execution_count": 11,
   "metadata": {},
   "outputs": [
    {
     "ename": "SyntaxError",
     "evalue": "invalid syntax (3557741951.py, line 13)",
     "output_type": "error",
     "traceback": [
      "\u001b[0;36m  File \u001b[0;32m\"/var/folders/2n/l4lbpz315tgd3w5k2mf_52v40000gn/T/ipykernel_4122/3557741951.py\"\u001b[0;36m, line \u001b[0;32m13\u001b[0m\n\u001b[0;31m    implicit none\u001b[0m\n\u001b[0m             ^\u001b[0m\n\u001b[0;31mSyntaxError\u001b[0m\u001b[0;31m:\u001b[0m invalid syntax\n"
     ]
    }
   ],
   "source": [
    "!-----------------------------------------------------------------------\n",
    "!  function calculates mass balance coefficients K1,K2,KC,KH\n",
    "! input:\n",
    "!  tempc               - C\n",
    "! output:\n",
    "!  K1                  - mol / l\n",
    "!  K2                  - mol / l\n",
    "!  KC                  - mol^2 / l^2\n",
    "!  KH                  - mol / l atm\n",
    "!  version from original publications\n",
    "!  written by Georg Kaufmann 03/01/2008\n",
    "!-----------------------------------------------------------------------\n",
    "implicit none\n",
    "integer,  parameter                   :: id = kind(0.0d0)\n",
    "real(id)                              :: tempc,tempa\n",
    "real(id)                              :: k0,k1,k2,k3,k4,k5,k6,k7,k8,kc,ka,kh,kw\n",
    "!-----------------------------------------------------------------------\n",
    "! change temperature to absolute temperature and calculate coefficient\n",
    "!-----------------------------------------------------------------------\n",
    "tempa  = 273.16d0 + tempc\n",
    "k2     = 10.d0**(-107.8871 + 5151.79 / tempa - 0.03252849 * tempa        \n",
    "       + 38.92561 * dlog10(tempa) - 563713.9 / tempa / tempa)\n",
    "k3     = 10.d0**(1209.12 - 34765.05 / tempa + 0.31294 * tempa            \n",
    "       - 478.782 * dlog10(tempa))\n",
    "k4     = 10.d0**(-1228.732 + 35512.75 / tempa                         \n",
    "       - 0.299444 * tempa + 485.818 * dlog10(tempa))\n",
    "k5     = 1.707d-4\n",
    "k6     = 10.d0**(-356.3094 + 21834.37 / tempa - 0.060919964 * tempa      \n",
    "       + 126.8339 * dlog10(tempa) - 1684915 / tempa / tempa)\n",
    "k7     = 10.d0**(-2.201d0 - 6.6d-3*tempc)\n",
    "k8     = 10.d0**(-1.299d0 - 2.9d-3*tempc)\n",
    "k1     = 10.d0**(-356.3094 - 0.06091964 * tempa + 21834.37 / tempa       \n",
    "       + 126.8339 * dlog10(tempa) - 1684915. / tempa / tempa)\n",
    "k0     = k5 / k1\n",
    "kh     = 10.d0**(108.3865 - 6919.53 / tempa + 0.01985076 * tempa         \n",
    "       - 40.45154 * dlog10(tempa) + 669365. / tempa / tempa)\n",
    "kw     = 10.e0**(22.801 - 4787.3 / tempa - 0.010365 * tempa              \n",
    "       - 7.1321 * dlog10(tempa))\n",
    "kc     = 10.d0**(-171.9065 - 0.077993 * tempa + 2839.319 / tempa         \n",
    "       + 71.595 * dlog10(tempa))\n",
    "ka     = 0.d0 ! not defined in this subroutine"
   ]
  },
  {
   "cell_type": "code",
   "execution_count": null,
   "metadata": {},
   "outputs": [],
   "source": [
    "def k0k1k2k5(TC):\n",
    "    \"\"\"\n",
    "    !-----------------------------------------------------------------------\n",
    "    ! K_1 and K_2\n",
    "    !-----------------------------------------------------------------------\n",
    "    ! pure water\n",
    "    ! Millero, F. J., Geochemica et Cosmochemica Acta 43:1651-1661, 1979:\n",
    "    ! K1 from refit data from Harned and Davis,\n",
    "    ! J American Chemical Society, 65:2030-2037, 1943.\n",
    "    ! K2 from refit data from Harned and Scholes,\n",
    "    ! J American Chemical Society, 43:1706-1709, 1941.\n",
    "    ! This is only to be used for Sal=0 water (note the absence of S in the below formulations)\n",
    "    ! These are the thermodynamic Constants:\n",
    "    ! this is on the SWS pH scale in mol/kg-SW\n",
    "    \"\"\"\n",
    "    TK       = 273.16 + TC\n",
    "    k1 = 290.9097 - 14554.21/TK - 45.0575*np.log(TK)\n",
    "    k1 = np.exp(k1)\n",
    "    k2 = 207.6548 - 11843.79/TK - 33.6485*np.log(TK)\n",
    "    k2 = np.exp(k2)\n",
    "    k5 = 1.707e-4\n",
    "    k0 = k5 / k1\n",
    "    return k0,k1,k2,k5"
   ]
  },
  {
   "cell_type": "markdown",
   "metadata": {},
   "source": [
    "----\n",
    "## Literature"
   ]
  },
  {
   "cell_type": "markdown",
   "metadata": {},
   "source": [
    "----"
   ]
  }
 ],
 "metadata": {
  "kernelspec": {
   "display_name": "Python 3 (ipykernel)",
   "language": "python",
   "name": "python3"
  },
  "language_info": {
   "codemirror_mode": {
    "name": "ipython",
    "version": 3
   },
   "file_extension": ".py",
   "mimetype": "text/x-python",
   "name": "python",
   "nbconvert_exporter": "python",
   "pygments_lexer": "ipython3",
   "version": "3.9.6"
  }
 },
 "nbformat": 4,
 "nbformat_minor": 1
}
