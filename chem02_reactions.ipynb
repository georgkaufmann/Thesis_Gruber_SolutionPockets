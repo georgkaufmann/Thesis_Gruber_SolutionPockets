{
 "cells": [
  {
   "cell_type": "markdown",
   "metadata": {},
   "source": [
    "<table>\n",
    "<tr><td><img style=\"height: 150px;\" src=\"images/geo_hydro1.jpg\"></td>\n",
    "<td bgcolor=\"#FFFFFF\">\n",
    "    <p style=\"font-size: xx-large; font-weight: 900; line-height: 100%\">AG Dynamics of the Earth</p>\n",
    "    <p style=\"font-size: large; color: rgba(0,0,0,0.5);\">Juypter notebooks</p>\n",
    "    <p style=\"font-size: large; color: rgba(0,0,0,0.5);\">Georg Kaufmann</p>\n",
    "    </td>\n",
    "</tr>\n",
    "</table>"
   ]
  },
  {
   "cell_type": "markdown",
   "metadata": {},
   "source": [
    "# Chemical modelling: Reactions\n",
    "----\n",
    "*Georg Kaufmann,\n",
    "Geophysics Section,\n",
    "Institute of Geological Sciences,\n",
    "Freie Universität Berlin,\n",
    "Germany*\n",
    "\n",
    "In this notebook, we reformulate **chemical reactions** to **differential equations**."
   ]
  },
  {
   "cell_type": "code",
   "execution_count": 1,
   "metadata": {},
   "outputs": [],
   "source": [
    "import numpy as np\n",
    "import matplotlib.pyplot as plt"
   ]
  },
  {
   "cell_type": "markdown",
   "metadata": {},
   "source": [
    "----\n",
    "## Chemical reactions\n",
    "**Chemical reactions** describe the change from one set of substances into another set of substances.\n",
    "These changes can take place between solids, liquids, or gases, or between different phases.\n",
    "\n",
    "Chemical reactions can be written as **chemical equations**.\n",
    "As an example, we define four molecules, $A$, $B$, $C$, and $D$, with $A$ and $B$ the **reactants**\n",
    "and $C$ and $D$ the **products**, and formulate the forward reaction as:\n",
    "$$\n",
    " \\alpha A + \\beta B + \\dots \\rightarrow \\gamma C + \\delta D + \\dots\n",
    "$$\n",
    "The dots indicate that more reactants and products might be involved.\n",
    "\n",
    "The chemical reaction is usually defined in integer numbers in terms of the molecules. Therefore,\n",
    "the **stoichiometric coefficients** $\\alpha$, $\\beta$, $\\gamma$, and $\\delta$ are introduced\n",
    "to balance the reaction.\n",
    "\n",
    "In the reaction above, the reaction proceeds from \"left\" to \"right\", here\n",
    "$A$ and $B$ yield $C$ and $D$. Of course, the reaction can also proceed in the opposite\n",
    "direction. Arrows in both directions as given below indicate a reaction, which proceeds\n",
    "in both directions:\n",
    "$$\n",
    " \\alpha A + \\beta B \\overset{k^+}{\\underset{k^-}{\\leftrightarrow}} \\gamma C + \\delta D\n",
    "$$\n",
    "Here, the forward and the backward reaction can proceed at different speeds, with different\n",
    "**rate constants** $k^+$ and $k^-$ (dimensions depend on reaction, see below). \n",
    "\n",
    "If both the forward and backward speeds are similar, the reaction is balanced, and one states that\n",
    "the reaction is in **equilibrium**, with the equilibrium rate constant $K$:\n",
    "$$\n",
    " \\alpha A + \\beta B \\overset{K}{\\underset{}{\\leftrightarrow}} \\gamma C + \\delta D\n",
    "$$"
   ]
  },
  {
   "cell_type": "markdown",
   "metadata": {},
   "source": [
    "----\n",
    "## From reactions towards differential equations\n",
    "The speed at which the chemical reaction is occuring can be defined by the\n",
    "**reaction speed** $v$ [mol/m$^3$/s]:\n",
    "$$\n",
    "\\begin{array}{rclcl}\n",
    " v^+ & = & - \\frac{1}{\\alpha} \\frac{d(A)}{dt} = - \\frac{1}{\\beta} \\frac{d(B)}{dt} &=& k^+ (A)^{\\alpha} (B)^{\\beta} \\\\\n",
    " v^- & = & - \\frac{1}{\\gamma} \\frac{d(C)}{dt} = - \\frac{1}{\\delta} \\frac{d(D)}{dt} &=& k^- (C)^{\\gamma} (D)^{\\delta}\n",
    "\\end{array}\n",
    "$$\n",
    "Here, $v^+$ and $v^-$ describe the reaction rates for the forward and the backward reaction,\n",
    "respectively. The quantity given in paranthesis, $(X)$ [-], is the **activity** of the\n",
    "molecule $X_i$.\n",
    "\n",
    "Depending on the number of involved species (on the right-hand side),\n",
    "the dimensions of the **rate constants** $k^{()}$ are different.\n",
    "As example, we list for reactions:\n",
    "$$\n",
    "\\begin{array}{rcl}\n",
    " -\\frac{1}{\\alpha} \\frac{d(A)}{dt} &=& k^{(0)} \\\\\n",
    " -\\frac{1}{\\alpha} \\frac{d(A)}{dt} &=& k^{(1)} (A) \\\\\n",
    " -\\frac{1}{\\alpha} \\frac{d(A)}{dt} &=& k^{(2)} (A)(B) \\\\\n",
    " -\\frac{1}{\\alpha} \\frac{d(A)}{dt} &=& k^{(3)} (A)(B)(C) \\\\\n",
    "\\end{array}\n",
    "$$\n",
    "which are reactions of zeroth, first, second, and third order.\n",
    "The units for the rate constants are:\n",
    "$$\n",
    "\\begin{array}{rl}\n",
    "[k^{(0)}] & \\frac{\\mbox{mol}}{\\mbox{l} \\mbox{ s}} \\\\\n",
    "[k^{(1)}] & \\frac{\\mbox{1}}{\\mbox{s}} \\\\\n",
    "[k^{(2)}] & \\frac{\\mbox{l}}{\\mbox{mol} \\mbox{ s}} \\\\\n",
    "[k^{(3)}] & \\frac{\\mbox{l}^2}{\\mbox{mol}^2 \\mbox{ s}} \\\\\n",
    "\\end{array}\n",
    "$$"
   ]
  },
  {
   "cell_type": "markdown",
   "metadata": {},
   "source": [
    "----\n",
    "## Equilibrium reactions\n",
    "If the forward and backward reactions proceed with similar speeds\n",
    "($v^+=v^-$), the reaction is **in equilibrium**:\n",
    "$$\n",
    "k^+ (A)^{\\alpha} (B)^{\\beta} =\n",
    "k^- (C)^{\\gamma} (D)^{\\delta}\n",
    "$$\n",
    "We reformulate the equilibrium condition to an\n",
    "**equilibrium constant** $K$:\n",
    "$$\n",
    "K = \\frac{k^+}{k^-} = \\frac{(C)^{\\gamma} (D)^{\\delta}}{(A)^{\\alpha} (B)^{\\beta}}\n",
    "$$"
   ]
  },
  {
   "cell_type": "markdown",
   "metadata": {},
   "source": [
    "----"
   ]
  }
 ],
 "metadata": {
  "kernelspec": {
   "display_name": "Python 3 (ipykernel)",
   "language": "python",
   "name": "python3"
  },
  "language_info": {
   "codemirror_mode": {
    "name": "ipython",
    "version": 3
   },
   "file_extension": ".py",
   "mimetype": "text/x-python",
   "name": "python",
   "nbconvert_exporter": "python",
   "pygments_lexer": "ipython3",
   "version": "3.9.6"
  }
 },
 "nbformat": 4,
 "nbformat_minor": 1
}
