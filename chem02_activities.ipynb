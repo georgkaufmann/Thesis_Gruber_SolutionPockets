{
 "cells": [
  {
   "cell_type": "markdown",
   "metadata": {},
   "source": [
    "<table>\n",
    "<tr><td><img style=\"height: 150px;\" src=\"images/geo_hydro1.jpg\"></td>\n",
    "<td bgcolor=\"#FFFFFF\">\n",
    "    <p style=\"font-size: xx-large; font-weight: 900; line-height: 100%\">AG Dynamics of the Earth</p>\n",
    "    <p style=\"font-size: large; color: rgba(0,0,0,0.5);\">Juypter notebooks</p>\n",
    "    <p style=\"font-size: large; color: rgba(0,0,0,0.5);\">Georg Kaufmann</p>\n",
    "    </td>\n",
    "</tr>\n",
    "</table>"
   ]
  },
  {
   "cell_type": "markdown",
   "metadata": {},
   "source": [
    "# Chemical modelling: Concentration and activity\n",
    "----\n",
    "*Georg Kaufmann,\n",
    "Geophysics Section,\n",
    "Institute of Geological Sciences,\n",
    "Freie Universität Berlin,\n",
    "Germany*\n",
    "\n",
    "In this notebook, we define the terms **concentration** and **activity**."
   ]
  },
  {
   "cell_type": "code",
   "execution_count": 1,
   "metadata": {},
   "outputs": [],
   "source": [
    "import numpy as np\n",
    "import matplotlib.pyplot as plt"
   ]
  },
  {
   "cell_type": "markdown",
   "metadata": {},
   "source": [
    "----\n",
    "## Molarity and concentration\n",
    "\n",
    "The **molarity** $[X_i]$ [mol/m$^3$] is defined as the ration between the amount of a\n",
    "substance $n$ [mol] and the volume of the mixture $V$ [m$^3$]:\n",
    "$$\n",
    "[X_i] = \\frac{n}{V}\n",
    "$$\n",
    "\n",
    "The molarity is the **concentration** of a substance in a (fluid) volume.\n",
    "\n",
    "The concentration of a substance controls a chemical reaction. However, reactions in \n",
    "aqueous chemistry occur in the presence of **charged particles**. \n",
    "These charged particles have a significant influence on the\n",
    "chemical reaction. "
   ]
  },
  {
   "cell_type": "markdown",
   "metadata": {},
   "source": [
    "----\n",
    "## Activity\n",
    "To account for this influence, the **activity** $(X_i)$ [-]\n",
    "is introduced as a dimensionless quantity. It is related to concentration by\n",
    "the dimensionless **activity coefficient** $\\gamma_i$ [-]:\n",
    "$$\n",
    "(X_i) = \\gamma_i \\frac{[X_i]}{{[X_i]^{o}}}\n",
    "$$\n",
    "\n",
    "Here, $[X_i]^{o}$ is the concentration of the $i$-th substance at\n",
    "standard conditions ($T=25^{\\circ}$C, $p=1$ atm).\n",
    "\n",
    "For very dilute solutions (only few charged species contained), the activity\n",
    "coefficient is almost 1, and thus the activity is one, if the substance is\n",
    "present under standard conditions. In other words, for very dilute solutions,\n",
    "the activity reflects different temperature- and pressure conditions."
   ]
  },
  {
   "cell_type": "markdown",
   "metadata": {},
   "source": [
    "----\n",
    "## Activity coefficients\n",
    "The activity coefficient $\\gamma_i$ [-] accounts\n",
    "for the interaction of charged particles in a solution: \n",
    "- In a solution with no charged particles, no interaction occurs, and the activity under standard conditions is equal to1.\n",
    "- In the presence of charged particles, attraction and repulsion of particles\n",
    "occurs, depending on the charge. This electro-static interaction inhibits\n",
    "the reactivity of the solution. Several model exist, which describe this\n",
    "departure from an ideal solution.\n",
    "\n",
    "### Debye-Hückel model\n",
    "The Debye-Hückel model is based on the assumption that charged particles can\n",
    "be treated as electrical charges.  Then the interaction of the charged particles\n",
    "is given by Coulomb's law. For a solution with given ionic strength $I$ [mol/m$^3$], the\n",
    "activity coefficient $\\gamma_i$ for an ion is then given by\n",
    "$$\n",
    "\\log \\gamma_i = -A z_i^2 \\sqrt{I}\n",
    "$$\n",
    "with $A$ [$\\sqrt{\\mathrm{m}^3/\\mathrm{mol}}$] a parameter, and $I$ [mol/m$^3$]\n",
    "the ionic strength.\n",
    "\n",
    "The Debye-Hückel model is valid for an ionic strength\n",
    "up to $I \\sim 0.001$ mol/l.\n",
    "\n",
    "### Extended Debye-Hückel model\n",
    "For solutions with higher ionic strength,\n",
    "an extension to the Debye-Hückel model has been proposed:\n",
    "$$\n",
    " \\log \\gamma_i = -\\frac{A z_i^2 \\sqrt{I}}{1 + B a_i \\sqrt{I}}\n",
    "$$\n",
    "with $A$ [$\\sqrt{\\mathrm{m}^3/\\mathrm{mol}}$]\n",
    "and $B$ [$\\sqrt{\\mathrm{m}^3/\\mathrm{mol}}$/m]\n",
    "two coefficients, and $a_i$ [m] the effective diameter of the ion.\n",
    "\n",
    "The extended Debye-Hückel model is valid for an ionic strength\n",
    "up to $I \\sim 0.01$ mol/l."
   ]
  },
  {
   "cell_type": "markdown",
   "metadata": {},
   "source": [
    "----\n",
    "## Ionic strength\n",
    "The **ionic strength** $I$ [mol/m$^3$] is defined as\n",
    "$$\n",
    " I = \\frac{1}{2} \\sum\\limits_i [X_i] z_i^2\n",
    "$$\n",
    "Here, $[X_i]$ is the concentration of species $i$, and $z_i$ the electric\n",
    "charge of species $i$. Thus the ionic strength measures the concentration\n",
    "of charged particles in the solution."
   ]
  },
  {
   "cell_type": "code",
   "execution_count": 2,
   "metadata": {},
   "outputs": [],
   "source": [
    "def ion_debyehueckel(TC,IS):\n",
    "    \"\"\"\n",
    "    ! function calculates activity coefficients for different ions\n",
    "    ! following the extended Debye-Hueckel model\n",
    "    ! NOTE for Ca2+, Mg2+, Na+, Cl- the bdot extended model is used\n",
    "    !      bdot value from phreeqc\n",
    "    ! input:\n",
    "    !  TC               - temperature [C]\n",
    "    !  IS               - ionic strength [mol / l]\n",
    "    ! output\n",
    "    !  activity['name'] - activity [-]\n",
    "    !  version using density and dielectric constant\n",
    "    !  written by Georg Kaufmann 03/01/2008\n",
    "    \"\"\"\n",
    "    TK       = 273.16 + TC\n",
    "    rho         = 1.0\n",
    "    dielectric  = 87.72 - 0.39702 * TC + 0.00081784 * TC**2\n",
    "    aa          = 1.82483e6 * np.sqrt(rho / (dielectric*TK)**3.)\n",
    "    bb          = 50.2912e0 * np.sqrt(rho / (dielectric*TK))\n",
    "    activity = {\n",
    "    'Hp'    : 10.**(-aa*1.*np.sqrt(IS)/(1.+bb*9.0*np.sqrt(IS))),\n",
    "    'Ca2p'  : 10.**(-aa*4.*np.sqrt(IS)/(1.+bb*5.0*np.sqrt(IS)) + 0.165*IS),\n",
    "    'Mg2p'  : 10.**(-aa*4.*np.sqrt(IS)/(1.+bb*5.5*np.sqrt(IS)) + 0.200*IS),\n",
    "    'OHm'   : 10.**(-aa*1.*np.sqrt(IS)/(1.+bb*3.5*np.sqrt(IS))),\n",
    "    'HCO3m' : 10.**(-aa*1.*np.sqrt(IS)/(1.+bb*5.4*np.sqrt(IS))),\n",
    "    'CO32m' : 10.**(-aa*4.*np.sqrt(IS)/(1.+bb*5.4*np.sqrt(IS))),\n",
    "    'SO42m' : 10.**(-aa*4.*np.sqrt(IS)/(1.+bb*5.0*np.sqrt(IS))),\n",
    "    'Nap'   : 10.**(-aa*1.*np.sqrt(IS)/(1.+bb*4.0*np.sqrt(IS)) + 0.04*IS),\n",
    "    'Clm'   : 10.**(-aa*1.*np.sqrt(IS)/(1.+bb*3.0*np.sqrt(IS)) + 0.04*IS)\n",
    "    }  \n",
    "        \n",
    "    return activity"
   ]
  },
  {
   "cell_type": "code",
   "execution_count": 4,
   "metadata": {},
   "outputs": [
    {
     "name": "stdout",
     "output_type": "stream",
     "text": [
      "0.9667963012035621\n"
     ]
    }
   ],
   "source": [
    "TC = 20.\n",
    "IS = 10e-4\n",
    "activity = ion_debyehueckel(TC,IS)\n",
    "print(activity['Hp'])"
   ]
  },
  {
   "cell_type": "code",
   "execution_count": 6,
   "metadata": {},
   "outputs": [
    {
     "data": {
      "image/png": "[encoded data removed]",
      "text/plain": [
       "<Figure size 720x432 with 1 Axes>"
      ]
     },
     "metadata": {
      "needs_background": "light"
     },
     "output_type": "display_data"
    }
   ],
   "source": [
    "IS = np.logspace(-4,2,50)\n",
    "TC = 20.\n",
    "activity = ion_debyehueckel(TC,IS)\n",
    "\n",
    "plt.figure(figsize=(10,6))\n",
    "plt.xlabel('Ionic strength [mol/l]')\n",
    "plt.ylabel('Activity coefficient $\\gamma$ [-]')\n",
    "plt.ylim([0,1.1])\n",
    "plt.semilogx(IS,activity['Hp'],linewidth=2,color='red',linestyle='solid',label='H$^{+}$')\n",
    "plt.semilogx(IS,activity['Ca2p'],linewidth=2,color='red',linestyle='dashed',label='Ca$^{2+}$')\n",
    "plt.semilogx(IS,activity['Mg2p'],linewidth=2,color='red',linestyle='dotted',label='Mg$^{2+}$')\n",
    "\n",
    "plt.semilogx(IS,activity['OHm'],linewidth=2,color='blue',linestyle='solid',label='OH$^{-}$')\n",
    "plt.semilogx(IS,activity['HCO3m'],linewidth=2,color='blue',linestyle='dashed',label='HCO$_3^{-}$')\n",
    "plt.semilogx(IS,activity['CO32m'],linewidth=2,color='blue',linestyle='dotted',label='CO$_3^{2-}$')\n",
    "plt.legend()\n",
    "plt.savefig('figures/CHEM_activity.png')"
   ]
  },
  {
   "cell_type": "markdown",
   "metadata": {},
   "source": [
    "----"
   ]
  }
 ],
 "metadata": {
  "kernelspec": {
   "display_name": "Python 3 (ipykernel)",
   "language": "python",
   "name": "python3"
  },
  "language_info": {
   "codemirror_mode": {
    "name": "ipython",
    "version": 3
   },
   "file_extension": ".py",
   "mimetype": "text/x-python",
   "name": "python",
   "nbconvert_exporter": "python",
   "pygments_lexer": "ipython3",
   "version": "3.9.6"
  }
 },
 "nbformat": 4,
 "nbformat_minor": 1
}
